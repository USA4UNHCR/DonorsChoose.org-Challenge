{
 "cells": [
  {
   "cell_type": "code",
   "execution_count": 8,
   "metadata": {},
   "outputs": [],
   "source": [
    "import pandas as pd\n",
    "import re\n",
    "from nltk.corpus import stopwords\n",
    "import nltk"
   ]
  },
  {
   "cell_type": "code",
   "execution_count": null,
   "metadata": {},
   "outputs": [],
   "source": [
    "teacher_survey_data = pd.read_csv(\"Donors_Choose_Data/donorschooseorg_challenge_teacher_survey.csv\")\n",
    "school_data = pd.read_csv(\"Donors_Choose_Data/donorschooseorg_challenge_school.csv\")\n",
    "project_data = pd.read_csv(\"donorschooseorg_challenge/donorschooseorg_challenge_project.csv\")\n",
    "resource_data = pd.read_csv(\"donorschooseorg_challenge/donorschooseorg_challenge_resource.csv\")"
   ]
  },
  {
   "cell_type": "code",
   "execution_count": 10,
   "metadata": {},
   "outputs": [],
   "source": [
    "teachers_with_refugee_students = teacher_survey_data.loc[teacher_survey_data[\"q3_num_refugee_students\"] > 0]"
   ]
  },
  {
   "cell_type": "code",
   "execution_count": null,
   "metadata": {},
   "outputs": [],
   "source": [
    "resource_data_1 = resource\n",
    "project_data_1 = project_data[[\"teacher_hashed_id\", \"project_impact_letter\"]]\n",
    "projects_refugees = pd.merge(teachers_with_refugee_students, project_data_1, how=\"right\", on=['teacher_hashed_id'])\n",
    "projects_refugees\n",
    "# there are extra rows with NaN's in the first few columns because there are more projects than teacher_survey responses\n",
    "# should we filter specifically for materials?\n",
    "# features that would be interesting to look into: external_refugee_services\n",
    "# look at the teachers who say that their students are doing better, and then see if it's correlated to the kinds of \n",
    "# open ended services being offered\n",
    "# try analyzing the q9b to see what kind of open_ended services are offered"
   ]
  },
  {
   "cell_type": "code",
   "execution_count": 12,
   "metadata": {},
   "outputs": [
    {
     "name": "stdout",
     "output_type": "stream",
     "text": [
      "[nltk_data] Downloading package stopwords to\n",
      "[nltk_data]     /Users/yejinkwon/nltk_data...\n",
      "[nltk_data]   Package stopwords is already up-to-date!\n"
     ]
    }
   ],
   "source": [
    "# source: https://www.kaggle.com/codename007/a-very-extensive-end-to-end-project-donorschoose/notebook, 5.3\n",
    "\n",
    "nltk.download('stopwords')\n",
    "\n",
    "REPLACE_BY_SPACE_RE = re.compile('[/(){}\\[\\]\\|@,;]')\n",
    "BAD_SYMBOLS_RE = re.compile('[^0-9a-z #+_]')\n",
    "STOPWORDS = set(stopwords.words('english'))\n",
    "def text_prepare(text):\n",
    "    \"\"\"\n",
    "        text: a string\n",
    "        \n",
    "        return: modified initial string\n",
    "    \"\"\"\n",
    "    text = text.lower()# lowercase text  \n",
    "    text = REPLACE_BY_SPACE_RE.sub(' ',text)# replace REPLACE_BY_SPACE_RE symbols by space in text    \n",
    "    text = BAD_SYMBOLS_RE.sub('',text)# delete symbols which are in BAD_SYMBOLS_RE from text    \n",
    "    temp = [s.strip() for s in text.split() if s not in STOPWORDS]# delete stopwords from text\n",
    "    new_text = ''\n",
    "    for i in temp:\n",
    "        new_text +=i+' '\n",
    "    text = new_text\n",
    "    return text.strip()"
   ]
  },
  {
   "cell_type": "code",
   "execution_count": null,
   "metadata": {},
   "outputs": [],
   "source": [
    "prepared_projects_refugees = projects_refugees.dropna(subset=[\"project_essay_two\"])"
   ]
  },
  {
   "cell_type": "code",
   "execution_count": null,
   "metadata": {},
   "outputs": [],
   "source": [
    "prepared_projects_refugees[\"project_essay_two\"].apply(pd.value_counts)"
   ]
  }
 ],
 "metadata": {
  "kernelspec": {
   "display_name": "Python 3",
   "language": "python",
   "name": "python3"
  }
 },
 "nbformat": 4,
 "nbformat_minor": 2
}
