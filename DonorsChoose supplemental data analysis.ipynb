{
 "cells": [
  {
   "cell_type": "code",
   "execution_count": 1,
   "metadata": {},
   "outputs": [],
   "source": [
    "import numpy as np\n",
    "import pandas as pd\n",
    "import matplotlib.pyplot as plt\n",
    "%matplotlib inline\n",
    "import seaborn as sns"
   ]
  },
  {
   "cell_type": "code",
   "execution_count": 2,
   "metadata": {},
   "outputs": [],
   "source": [
    "donor_sup = pd.read_csv('donorschooseorg_challenge_donor_supplemental.csv')"
   ]
  },
  {
   "cell_type": "code",
   "execution_count": 3,
   "metadata": {},
   "outputs": [
    {
     "data": {
      "text/html": [
       "<div>\n",
       "<style scoped>\n",
       "    .dataframe tbody tr th:only-of-type {\n",
       "        vertical-align: middle;\n",
       "    }\n",
       "\n",
       "    .dataframe tbody tr th {\n",
       "        vertical-align: top;\n",
       "    }\n",
       "\n",
       "    .dataframe thead th {\n",
       "        text-align: right;\n",
       "    }\n",
       "</style>\n",
       "<table border=\"1\" class=\"dataframe\">\n",
       "  <thead>\n",
       "    <tr style=\"text-align: right;\">\n",
       "      <th></th>\n",
       "      <th>Unnamed: 0</th>\n",
       "      <th>donor_hashed_id</th>\n",
       "      <th>score</th>\n",
       "      <th>vb_tsmart_city</th>\n",
       "      <th>vb_tsmart_state</th>\n",
       "      <th>vb_voterbase_marital_status</th>\n",
       "      <th>vb_etech_religion</th>\n",
       "      <th>vb_vf_party</th>\n",
       "      <th>vb_household_income_amount</th>\n",
       "      <th>vb_education</th>\n",
       "      <th>...</th>\n",
       "      <th>xpbb_behaviorbank_purchased_through_the_mail</th>\n",
       "      <th>xpbb_hhlifestylinfo_buyingprefer_info_by_email</th>\n",
       "      <th>tb_person_online_flg</th>\n",
       "      <th>tb_person_facebook_flg</th>\n",
       "      <th>xpbb_behaviorbank_donates_to_environmental_causes</th>\n",
       "      <th>xpbb_behaviorbank_contributes_to_charities</th>\n",
       "      <th>xpbb_hhlifestylcontributionshumanitarian</th>\n",
       "      <th>xpbb_hhlifestylcontributionspolitical</th>\n",
       "      <th>vb_homeowner_indicator</th>\n",
       "      <th>vb_number_of_children_in_household</th>\n",
       "    </tr>\n",
       "  </thead>\n",
       "  <tbody>\n",
       "    <tr>\n",
       "      <th>0</th>\n",
       "      <td>0</td>\n",
       "      <td>00002eb25d60a09c318efbd0797bffb5</td>\n",
       "      <td>0.657954</td>\n",
       "      <td>INDIANAPOLIS</td>\n",
       "      <td>IN</td>\n",
       "      <td>Unmarried</td>\n",
       "      <td>Catholic</td>\n",
       "      <td>Unaffiliated</td>\n",
       "      <td>NaN</td>\n",
       "      <td>3.0</td>\n",
       "      <td>...</td>\n",
       "      <td>NaN</td>\n",
       "      <td>NaN</td>\n",
       "      <td>NaN</td>\n",
       "      <td>NaN</td>\n",
       "      <td>NaN</td>\n",
       "      <td>NaN</td>\n",
       "      <td>NaN</td>\n",
       "      <td>NaN</td>\n",
       "      <td>NaN</td>\n",
       "      <td>NaN</td>\n",
       "    </tr>\n",
       "    <tr>\n",
       "      <th>1</th>\n",
       "      <td>1</td>\n",
       "      <td>0000300773fe015f870914b42528541b</td>\n",
       "      <td>0.218583</td>\n",
       "      <td>ATLANTIC CITY</td>\n",
       "      <td>NJ</td>\n",
       "      <td>Unmarried</td>\n",
       "      <td>Catholic</td>\n",
       "      <td>NaN</td>\n",
       "      <td>77.0</td>\n",
       "      <td>2.0</td>\n",
       "      <td>...</td>\n",
       "      <td>NaN</td>\n",
       "      <td>NaN</td>\n",
       "      <td>NaN</td>\n",
       "      <td>NaN</td>\n",
       "      <td>NaN</td>\n",
       "      <td>NaN</td>\n",
       "      <td>NaN</td>\n",
       "      <td>NaN</td>\n",
       "      <td>NaN</td>\n",
       "      <td>0.0</td>\n",
       "    </tr>\n",
       "  </tbody>\n",
       "</table>\n",
       "<p>2 rows × 27 columns</p>\n",
       "</div>"
      ],
      "text/plain": [
       "   Unnamed: 0                   donor_hashed_id     score vb_tsmart_city  \\\n",
       "0           0  00002eb25d60a09c318efbd0797bffb5  0.657954   INDIANAPOLIS   \n",
       "1           1  0000300773fe015f870914b42528541b  0.218583  ATLANTIC CITY   \n",
       "\n",
       "  vb_tsmart_state vb_voterbase_marital_status vb_etech_religion   vb_vf_party  \\\n",
       "0              IN                   Unmarried          Catholic  Unaffiliated   \n",
       "1              NJ                   Unmarried          Catholic           NaN   \n",
       "\n",
       "   vb_household_income_amount  vb_education  \\\n",
       "0                         NaN           3.0   \n",
       "1                        77.0           2.0   \n",
       "\n",
       "                  ...                  \\\n",
       "0                 ...                   \n",
       "1                 ...                   \n",
       "\n",
       "  xpbb_behaviorbank_purchased_through_the_mail  \\\n",
       "0                                          NaN   \n",
       "1                                          NaN   \n",
       "\n",
       "   xpbb_hhlifestylinfo_buyingprefer_info_by_email tb_person_online_flg  \\\n",
       "0                                             NaN                  NaN   \n",
       "1                                             NaN                  NaN   \n",
       "\n",
       "  tb_person_facebook_flg xpbb_behaviorbank_donates_to_environmental_causes  \\\n",
       "0                    NaN                                               NaN   \n",
       "1                    NaN                                               NaN   \n",
       "\n",
       "  xpbb_behaviorbank_contributes_to_charities  \\\n",
       "0                                        NaN   \n",
       "1                                        NaN   \n",
       "\n",
       "  xpbb_hhlifestylcontributionshumanitarian  \\\n",
       "0                                      NaN   \n",
       "1                                      NaN   \n",
       "\n",
       "  xpbb_hhlifestylcontributionspolitical vb_homeowner_indicator  \\\n",
       "0                                   NaN                    NaN   \n",
       "1                                   NaN                    NaN   \n",
       "\n",
       "   vb_number_of_children_in_household  \n",
       "0                                 NaN  \n",
       "1                                 0.0  \n",
       "\n",
       "[2 rows x 27 columns]"
      ]
     },
     "execution_count": 3,
     "metadata": {},
     "output_type": "execute_result"
    }
   ],
   "source": [
    "donor_sup.head(2)"
   ]
  },
  {
   "cell_type": "code",
   "execution_count": 4,
   "metadata": {},
   "outputs": [],
   "source": [
    "donor_sup.columns = ['index', 'id', 'score', 'city', 'state', 'marital_status','religion','party','household_income', 'education',\n",
    "                    'gender', 'age', 'volunteer_interest', 'tv purchases', 'phone purchases', 'online purchases', 'online shopping prefered',\n",
    "                    'mail purchases', 'email prefered', 'online presence', 'fb presence', 'environmental_causes_donations',\n",
    "                    'charity_contributions', 'humanitarian_donations', 'political_contributions', 'homeowner', 'children in household']"
   ]
  },
  {
   "cell_type": "code",
   "execution_count": 5,
   "metadata": {},
   "outputs": [],
   "source": [
    "donor_sup = donor_sup[['id', 'score', 'city', 'state', 'marital_status','religion','party','household_income', 'education',\n",
    "                    'gender', 'age', 'volunteer_interest', 'tv purchases', 'phone purchases', 'online purchases', 'online shopping prefered',\n",
    "                    'mail purchases', 'email prefered', 'online presence', 'fb presence', 'environmental_causes_donations',\n",
    "                    'charity_contributions', 'humanitarian_donations', 'political_contributions', 'homeowner', 'children in household']]"
   ]
  },
  {
   "cell_type": "code",
   "execution_count": 6,
   "metadata": {},
   "outputs": [],
   "source": [
    "children_data = donor_sup[['id', 'children in household']]"
   ]
  },
  {
   "cell_type": "code",
   "execution_count": 7,
   "metadata": {},
   "outputs": [
    {
     "data": {
      "text/plain": [
       "<matplotlib.axes._subplots.AxesSubplot at 0x28f506d1780>"
      ]
     },
     "execution_count": 7,
     "metadata": {},
     "output_type": "execute_result"
    },
    {
     "data": {
      "image/png": "[encoded data removed]",
      "text/plain": [
       "<Figure size 432x288 with 1 Axes>"
      ]
     },
     "metadata": {
      "needs_background": "light"
     },
     "output_type": "display_data"
    }
   ],
   "source": [
    "sns.countplot(x = 'children in household', data = children_data)"
   ]
  },
  {
   "cell_type": "code",
   "execution_count": null,
   "metadata": {},
   "outputs": [],
   "source": [
    "#Individuals with no children were twice as likely to donate as compared to individuals with 1 child.\n",
    "#Similarly, individuals with 1 child were roughly twice as likely to donate as compare to individuals with 2 children.\n",
    "#Conclusion: Amongst donors, addition of one child leads to their likelihood of donating drop by half. "
   ]
  },
  {
   "cell_type": "code",
   "execution_count": null,
   "metadata": {},
   "outputs": [],
   "source": [
    "#Defining income brackets and looking at frequency of people in each bracket"
   ]
  },
  {
   "cell_type": "code",
   "execution_count": 8,
   "metadata": {},
   "outputs": [],
   "source": [
    "income_data = donor_sup.dropna(subset = ['household_income'])\n",
    "income_cols = income_data[['id', 'household_income']]\n",
    "\n",
    "inc_upto_40 = income_cols[income_cols['household_income'] <= 40]\n",
    "inc_40_to_80 = income_cols[(income_cols['household_income'] > 40) & (income_cols['household_income'] <= 80)]\n",
    "inc_80_to_160 = income_cols[(income_cols['household_income'] > 80) & (income_cols['household_income'] <= 160)]\n",
    "inc_160_to_200 = income_cols[(income_cols['household_income'] > 160) & (income_cols['household_income'] <= 200)]\n",
    "inc_200_to_500 = income_cols[(income_cols['household_income'] > 200) & (income_cols['household_income'] <= 500)]\n",
    "inc_above_500 = income_cols[income_cols['household_income'] > 500]"
   ]
  },
  {
   "cell_type": "code",
   "execution_count": 10,
   "metadata": {},
   "outputs": [],
   "source": [
    "income_dict = {'upto_40_donors': len(inc_upto_40), 'inc_40_to_80_donors': len(inc_40_to_80), 'inc_80_to_160_donors': len(inc_80_to_160),\n",
    "              'inc_160_to_200_donors': len(inc_160_to_200), 'inc_200_to_500_donors': len(inc_200_to_500), \n",
    "              'inc_above_500_donors': len(inc_above_500)}\n",
    "income_count = pd.Series(income_dict)"
   ]
  },
  {
   "cell_type": "code",
   "execution_count": 11,
   "metadata": {},
   "outputs": [
    {
     "data": {
      "text/plain": [
       "<matplotlib.axes._subplots.AxesSubplot at 0x28f5325cb70>"
      ]
     },
     "execution_count": 11,
     "metadata": {},
     "output_type": "execute_result"
    },
    {
     "data": {
      "image/png": "[encoded data removed]",
      "text/plain": [
       "<Figure size 432x288 with 1 Axes>"
      ]
     },
     "metadata": {
      "needs_background": "light"
     },
     "output_type": "display_data"
    }
   ],
   "source": [
    "income_count.plot('bar')"
   ]
  },
  {
   "cell_type": "code",
   "execution_count": null,
   "metadata": {},
   "outputs": [],
   "source": [
    "#Highest donors come from 80k-160k income bracket closely followed by 40k-80k income bracket. \n",
    "#Interestingly, individuals who earn up to 40k form the third largest category of donors."
   ]
  },
  {
   "cell_type": "code",
   "execution_count": null,
   "metadata": {},
   "outputs": [],
   "source": [
    "#What are the top five states where donors come from?"
   ]
  },
  {
   "cell_type": "code",
   "execution_count": 12,
   "metadata": {},
   "outputs": [
    {
     "data": {
      "text/plain": [
       "<matplotlib.axes._subplots.AxesSubplot at 0x28f532ea2b0>"
      ]
     },
     "execution_count": 12,
     "metadata": {},
     "output_type": "execute_result"
    },
    {
     "data": {
      "image/png": "[encoded data removed]",
      "text/plain": [
       "<Figure size 432x288 with 1 Axes>"
      ]
     },
     "metadata": {
      "needs_background": "light"
     },
     "output_type": "display_data"
    }
   ],
   "source": [
    "donor_state = donor_sup[['id', 'state']]\n",
    "donor_state = donor_state.groupby('state').count()\n",
    "top_5_states = donor_state.sort_values('id', ascending = False).iloc[:5]\n",
    "top_5_states.reset_index(inplace = True)\n",
    "top_5_states.columns = ['state', 'donor_count']\n",
    "sns.barplot(x= 'state', y= 'donor_count', data = top_5_states)"
   ]
  },
  {
   "cell_type": "code",
   "execution_count": null,
   "metadata": {},
   "outputs": [],
   "source": [
    "#What are the top 5 cities donations come from? Do the top 5 cities come from the top 5 states we just found out?"
   ]
  },
  {
   "cell_type": "code",
   "execution_count": 13,
   "metadata": {},
   "outputs": [
    {
     "data": {
      "text/plain": [
       "<matplotlib.axes._subplots.AxesSubplot at 0x28f0003d748>"
      ]
     },
     "execution_count": 13,
     "metadata": {},
     "output_type": "execute_result"
    },
    {
     "data": {
      "image/png": "[encoded data removed]",
      "text/plain": [
       "<Figure size 432x288 with 1 Axes>"
      ]
     },
     "metadata": {
      "needs_background": "light"
     },
     "output_type": "display_data"
    }
   ],
   "source": [
    "donor_city = donor_sup[['id', 'city']]\n",
    "donor_city = donor_city.groupby('city').count()\n",
    "top_5_cities = donor_city.sort_values('id', ascending = False).iloc[:5]\n",
    "top_5_cities.reset_index(inplace = True)\n",
    "top_5_cities.columns = ['city', 'donor_count']\n",
    "sns.barplot(x= 'city', y= 'donor_count', data = top_5_cities)"
   ]
  },
  {
   "cell_type": "code",
   "execution_count": null,
   "metadata": {},
   "outputs": [],
   "source": [
    "#Result: 2 cities from NY state are part of top 5 city donors. \n",
    "#Observation: LA is at the last position amongst top 5 city donors but California is at the first position in top 5 state donors. \n",
    "#This points out to the fact that donations coming from California are more spread out as opposed to Illinois where a bulk of \n",
    "#donations are coming from Chicago.\n",
    "#Conclusion: DonorsChoose.org should try reaching out to areas outside of main cities in NY and Illinois states."
   ]
  }
 ],
 "metadata": {
  "kernelspec": {
   "display_name": "Python 3",
   "language": "python",
   "name": "python3"
  },
  "language_info": {
   "codemirror_mode": {
    "name": "ipython",
    "version": 3
   },
   "file_extension": ".py",
   "mimetype": "text/x-python",
   "name": "python",
   "nbconvert_exporter": "python",
   "pygments_lexer": "ipython3",
   "version": "3.7.0"
  }
 },
 "nbformat": 4,
 "nbformat_minor": 2
}
