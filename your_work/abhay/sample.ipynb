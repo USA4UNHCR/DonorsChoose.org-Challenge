{
 "cells": [
  {
   "cell_type": "markdown",
   "metadata": {},
   "source": [
    "Downsample records"
   ]
  },
  {
   "cell_type": "code",
   "execution_count": 25,
   "metadata": {},
   "outputs": [],
   "source": [
    "import os\n",
    "import random\n",
    "import csv"
   ]
  },
  {
   "cell_type": "code",
   "execution_count": 26,
   "metadata": {},
   "outputs": [],
   "source": [
    "data_dir = \"../../../data/\"\n",
    "fname = \"donorschooseorg_challenge_project.csv\""
   ]
  },
  {
   "cell_type": "code",
   "execution_count": 27,
   "metadata": {},
   "outputs": [],
   "source": [
    "sample_size = 0.1"
   ]
  },
  {
   "cell_type": "code",
   "execution_count": 28,
   "metadata": {},
   "outputs": [],
   "source": [
    "sample_fname = os.path.join(data_dir, \"{}-{}.csv\".format(fname.split(\".\")[0], int(sample_size*100)))"
   ]
  },
  {
   "cell_type": "code",
   "execution_count": 32,
   "metadata": {},
   "outputs": [
    {
     "name": "stdout",
     "output_type": "stream",
     "text": [
      "100000 lines processed\n",
      "200000 lines processed\n",
      "300000 lines processed\n",
      "400000 lines processed\n",
      "500000 lines processed\n",
      "600000 lines processed\n",
      "700000 lines processed\n",
      "800000 lines processed\n",
      "900000 lines processed\n"
     ]
    }
   ],
   "source": [
    "lc = 0\n",
    "with open(sample_fname, 'w') as sample_file: \n",
    "    recwriter = csv.writer(sample_file, delimiter=',', quotechar='\"', quoting=csv.QUOTE_MINIMAL)\n",
    "    with open(fpath, newline=\"\\n\") as orig_file:\n",
    "        recreader = csv.reader(orig_file, delimiter=',', quotechar='\"')\n",
    "        for line in recreader: \n",
    "            if lc == 0:\n",
    "                recwriter.writerow(line)\n",
    "                lc+=1\n",
    "                continue\n",
    "            lc+=1\n",
    "            if lc % 100000 == 0:\n",
    "                print(\"{} lines processed\".format(lc))\n",
    "            if random.random() <= sample_size:\n",
    "                recwriter.writerow(line)\n"
   ]
  },
  {
   "cell_type": "code",
   "execution_count": null,
   "metadata": {},
   "outputs": [],
   "source": []
  }
 ],
 "metadata": {
  "kernelspec": {
   "display_name": "Python 3",
   "language": "python",
   "name": "python3"
  },
  "language_info": {
   "codemirror_mode": {
    "name": "ipython",
    "version": 3
   },
   "file_extension": ".py",
   "mimetype": "text/x-python",
   "name": "python",
   "nbconvert_exporter": "python",
   "pygments_lexer": "ipython3",
   "version": "3.6.2"
  }
 },
 "nbformat": 4,
 "nbformat_minor": 2
}
